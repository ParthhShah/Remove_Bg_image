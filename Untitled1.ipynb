{
 "cells": [
  {
   "cell_type": "code",
   "execution_count": 2,
   "id": "e7680dc0",
   "metadata": {},
   "outputs": [],
   "source": [
    "import rembg"
   ]
  },
  {
   "cell_type": "code",
   "execution_count": 3,
   "id": "f876a0bf",
   "metadata": {},
   "outputs": [],
   "source": [
    "from PIL import Image"
   ]
  },
  {
   "cell_type": "code",
   "execution_count": 4,
   "id": "e8283a67",
   "metadata": {},
   "outputs": [],
   "source": [
    "input_image = Image.open(\"abcd.jpg\")"
   ]
  },
  {
   "cell_type": "code",
   "execution_count": 5,
   "id": "021a2335",
   "metadata": {},
   "outputs": [],
   "source": [
    "output_image = rembg.remove(input_image)"
   ]
  },
  {
   "cell_type": "code",
   "execution_count": 6,
   "id": "59395155",
   "metadata": {},
   "outputs": [],
   "source": [
    "output_image.save(\"output_image.png\")"
   ]
  },
  {
   "cell_type": "code",
   "execution_count": null,
   "id": "c0ca653b",
   "metadata": {},
   "outputs": [],
   "source": []
  }
 ],
 "metadata": {
  "kernelspec": {
   "display_name": "Python 3 (ipykernel)",
   "language": "python",
   "name": "python3"
  },
  "language_info": {
   "codemirror_mode": {
    "name": "ipython",
    "version": 3
   },
   "file_extension": ".py",
   "mimetype": "text/x-python",
   "name": "python",
   "nbconvert_exporter": "python",
   "pygments_lexer": "ipython3",
   "version": "3.9.7"
  }
 },
 "nbformat": 4,
 "nbformat_minor": 5
}
